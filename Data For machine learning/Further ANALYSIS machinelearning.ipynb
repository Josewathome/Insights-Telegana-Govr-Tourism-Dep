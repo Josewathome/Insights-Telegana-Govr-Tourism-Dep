{
 "cells": [
  {
   "cell_type": "markdown",
   "metadata": {},
   "source": [
    "# Perform a time series Analysis on both the data for Telangana And build a Machine Learning Model That Predicts The Number of Visitors That will Visit a certain District A at a given time.\n",
    "this is for learning"
   ]
  },
  {
   "cell_type": "markdown",
   "metadata": {},
   "source": [
    "first Import the nesesary libraries"
   ]
  },
  {
   "cell_type": "code",
   "execution_count": 1,
   "metadata": {},
   "outputs": [],
   "source": [
    "import pandas as pd \n",
    "import numpy as np \n",
    "import matplotlib.pyplot as plt\n",
    "import seaborn as sns\n",
    "import tensorflow"
   ]
  },
  {
   "cell_type": "markdown",
   "metadata": {},
   "source": [
    "Load the two data sets and keep them in a list called data"
   ]
  },
  {
   "cell_type": "code",
   "execution_count": 3,
   "metadata": {},
   "outputs": [],
   "source": [
    "domestic_visitors = pd.read_csv('Domestic_visitor_Output_2.csv')\n",
    "foreing_visitors= pd.read_csv('foreing_visitor_Output_2.csv')\n",
    "data = [domestic_visitors, foreing_visitors]\n",
    "data_names = ('Domestic', 'Foreign')"
   ]
  },
  {
   "cell_type": "markdown",
   "metadata": {},
   "source": [
    "Lets view the two data sets"
   ]
  },
  {
   "cell_type": "code",
   "execution_count": 12,
   "metadata": {},
   "outputs": [
    {
     "name": "stdout",
     "output_type": "stream",
     "text": [
      "\n",
      "Domestic Data set first 5 rows \n",
      "    Unnamed: 0  district        date     month  year  visitors\n",
      "0           0  Adilabad  2016-01-01   January  2016    792136\n",
      "1           1  Adilabad  2016-01-02  February  2016    937820\n",
      "2           2  Adilabad  2016-01-03     March  2016    582946\n",
      "3           3  Adilabad  2016-01-04     April  2016    341948\n",
      "4           4  Adilabad  2016-01-05       May  2016    252887\n",
      "\n",
      " Domestic Data set last 5 rows \n",
      "       Unnamed: 0         district        date      month  year  visitors\n",
      "1506        1507  Yadadri Bhongir  2019-01-08     August  2019    389010\n",
      "1507        1508  Yadadri Bhongir  2019-01-09  September  2019    366862\n",
      "1508        1509  Yadadri Bhongir  2019-01-10    October  2019    381860\n",
      "1509        1510  Yadadri Bhongir  2019-01-11   November  2019    365990\n",
      "1510        1511  Yadadri Bhongir  2019-01-12   December  2019    477635\n",
      "\n",
      "Foreign Data set first 5 rows \n",
      "    Unnamed: 0  district        date     month  year  visitors\n",
      "0           0  Adilabad  2016-01-01   January  2016         2\n",
      "1           1  Adilabad  2016-01-02  February  2016         0\n",
      "2           2  Adilabad  2016-01-03     March  2016         2\n",
      "3           3  Adilabad  2016-01-04     April  2016         0\n",
      "4           4  Adilabad  2016-01-05       May  2016         0\n",
      "\n",
      " Foreign Data set last 5 rows \n",
      "       Unnamed: 0         district        date      month  year  visitors\n",
      "1507        1507  Yadadri Bhongir  2019-01-08     August  2019         0\n",
      "1508        1508  Yadadri Bhongir  2019-01-09  September  2019         0\n",
      "1509        1509  Yadadri Bhongir  2019-01-10    October  2019         0\n",
      "1510        1510  Yadadri Bhongir  2019-01-11   November  2019         0\n",
      "1511        1511  Yadadri Bhongir  2019-01-12   December  2019         0\n"
     ]
    }
   ],
   "source": [
    "def view_data (data,data_names):\n",
    "    for i in range(len(data)):\n",
    "        print(f'\\n{data_names[i]} Data set first 5 rows \\n {data[i].head()}')\n",
    "        print(f'\\n {data_names[i]} Data set last 5 rows \\n {data[i].tail()}')\n",
    "        \n",
    "\n",
    "view_data (data,data_names)"
   ]
  },
  {
   "cell_type": "markdown",
   "metadata": {},
   "source": [
    "## To avoid changing the original data when building this models.\n",
    "we will emply the method of copying the data frames and using the copys of the data frame for each model building.\n",
    "\n",
    "Also we will use functions in building this models and classes\n",
    "\n",
    "in that at the end of this model you will have sections to input your inputs and you get the output clearly without too much codes\n",
    "\n",
    "I will also try to build an interface when using this Two models"
   ]
  },
  {
   "cell_type": "code",
   "execution_count": null,
   "metadata": {},
   "outputs": [],
   "source": []
  },
  {
   "cell_type": "markdown",
   "metadata": {},
   "source": [
    "### 1. Finding the relationship between the visitors and district they visit\n",
    " which district has the higest posibility of being visited over the years"
   ]
  },
  {
   "cell_type": "code",
   "execution_count": null,
   "metadata": {},
   "outputs": [],
   "source": []
  },
  {
   "cell_type": "markdown",
   "metadata": {},
   "source": [
    "### 2. Model that predicts corectly the number of visitors for a given year \n",
    "and also which districts will have the highest number of visitors in the particular chosen year"
   ]
  },
  {
   "cell_type": "code",
   "execution_count": null,
   "metadata": {},
   "outputs": [],
   "source": []
  },
  {
   "cell_type": "markdown",
   "metadata": {},
   "source": [
    "### 3. visualize the tred prediction of the next 5 years for a district"
   ]
  }
 ],
 "metadata": {
  "kernelspec": {
   "display_name": "base",
   "language": "python",
   "name": "python3"
  },
  "language_info": {
   "codemirror_mode": {
    "name": "ipython",
    "version": 3
   },
   "file_extension": ".py",
   "mimetype": "text/x-python",
   "name": "python",
   "nbconvert_exporter": "python",
   "pygments_lexer": "ipython3",
   "version": "3.9.13"
  },
  "orig_nbformat": 4
 },
 "nbformat": 4,
 "nbformat_minor": 2
}
